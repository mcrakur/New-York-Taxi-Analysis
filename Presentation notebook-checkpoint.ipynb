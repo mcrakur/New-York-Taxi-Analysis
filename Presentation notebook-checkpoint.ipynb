{
 "cells": [
  {
   "cell_type": "markdown",
   "id": "de43e6e8-bc12-481d-a683-438c55cf24c9",
   "metadata": {},
   "source": [
    "# This project is awesome"
   ]
  },
  {
   "cell_type": "code",
   "execution_count": null,
   "id": "2422dda0-8dd8-4ee6-9c3f-4bd1392bffec",
   "metadata": {},
   "outputs": [],
   "source": [
    "import pandas as pd"
   ]
  },
  {
   "cell_type": "code",
   "execution_count": null,
   "id": "07b83cf9-5b14-4be0-a5c2-8fdbd4663533",
   "metadata": {},
   "outputs": [],
   "source": [
    "taxi_df = pd.read_csv ('"
   ]
  }
 ],
 "metadata": {
  "kernelspec": {
   "display_name": "Python [conda env:base] *",
   "language": "python",
   "name": "conda-base-py"
  },
  "language_info": {
   "codemirror_mode": {
    "name": "ipython",
    "version": 3
   },
   "file_extension": ".py",
   "mimetype": "text/x-python",
   "name": "python",
   "nbconvert_exporter": "python",
   "pygments_lexer": "ipython3",
   "version": "3.13.5"
  }
 },
 "nbformat": 4,
 "nbformat_minor": 5
}
